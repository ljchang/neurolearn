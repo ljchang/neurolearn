{
  "cells": [
    {
      "cell_type": "code",
      "execution_count": null,
      "metadata": {
        "collapsed": false
      },
      "outputs": [],
      "source": [
        "%matplotlib inline"
      ]
    },
    {
      "cell_type": "markdown",
      "metadata": {},
      "source": [
        "# Neurovault I/O\n\nData can be easily downloaded and uploaded to `neurovault <http://neurovault.org/>`_\nusing `pynv <https://github.com/neurolearn/pynv>`_, a python wrapper for the\nneurovault api.\n"
      ]
    },
    {
      "cell_type": "markdown",
      "metadata": {},
      "source": [
        "## Download a Collection\n\nEntire collections from neurovault can be downloaded along with the\naccompanying image metadata.  You just need to know the collection ID.\nData will be downloaded to the path specified in the 'data_dir' flag \nor '~/nilearn_data' by default.  These files can then be imported into\nnltools as a Brain_Data() instance.\n\n"
      ]
    },
    {
      "cell_type": "code",
      "execution_count": null,
      "metadata": {
        "collapsed": false
      },
      "outputs": [],
      "source": [
        "from nltools.datasets import download_collection\nfrom nltools.data import Brain_Data\n\nmetadata,files = download_collection(collection=2099)\nmask = Brain_Data(files,X=metadata)"
      ]
    },
    {
      "cell_type": "markdown",
      "metadata": {},
      "source": [
        "## Download a Single Image from the Web\n\nIt's possible to load a single image from a web URL using the Brain_Data \nload method.  The files are downloaded to a temporary directory and will \neventually be erased by your computer so be sure to write it out to a file \nif you would like to save it.  Here we plot it using nilearn's glass brain\nfunction.\n\n"
      ]
    },
    {
      "cell_type": "code",
      "execution_count": null,
      "metadata": {
        "collapsed": false
      },
      "outputs": [],
      "source": [
        "from nilearn.plotting import plot_glass_brain\n\nmask = Brain_Data('http://neurovault.org/media/images/2099/Neurosynth%20Parcellation_0.nii.gz')\n\nplot_glass_brain(mask.to_nifti())"
      ]
    },
    {
      "cell_type": "markdown",
      "metadata": {},
      "source": [
        "## Upload Data to Neurovault\n\nThere is a method to easily upload a Brain_Data() instance to \n`neurovault <http://neurovault.org>`_.  This requires using your api key, which can be found\nunder your account settings.  Anything stored in data.X will be uploaded as\nimage metadata.  The required fields include collection_name, the img_type,\nimg_modality, and analysis_level.  See https://github.com/neurolearn/pyneurovault_upload\nfor additional information about the required fields.  (Don't forget to uncomment the line!)\n\n"
      ]
    },
    {
      "cell_type": "code",
      "execution_count": null,
      "metadata": {
        "collapsed": false
      },
      "outputs": [],
      "source": [
        "api_key = 'your_neurovault_api_key'\n\n# mask.upload_neurovault(access_token=api_key, collection_name='Neurosynth Parcellation', \n#                        img_type='Pa', img_modality='Other',analysis_level='M')"
      ]
    }
  ],
  "metadata": {
    "kernelspec": {
      "display_name": "Python 3",
      "language": "python",
      "name": "python3"
    },
    "language_info": {
      "codemirror_mode": {
        "name": "ipython",
        "version": 3
      },
      "file_extension": ".py",
      "mimetype": "text/x-python",
      "name": "python",
      "nbconvert_exporter": "python",
      "pygments_lexer": "ipython3",
      "version": "3.8.9"
    }
  },
  "nbformat": 4,
  "nbformat_minor": 0
}