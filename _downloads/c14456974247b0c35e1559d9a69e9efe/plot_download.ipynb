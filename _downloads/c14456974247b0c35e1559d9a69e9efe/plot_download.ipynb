{
  "cells": [
    {
      "cell_type": "code",
      "execution_count": null,
      "metadata": {
        "collapsed": false
      },
      "outputs": [],
      "source": [
        "%matplotlib inline"
      ]
    },
    {
      "cell_type": "markdown",
      "metadata": {},
      "source": [
        "\n# Basic Data Operations\n\nA simple example showing how to download a dataset from neurovault and perform\nbasic data operations.  The bulk of the nltools toolbox is built around the\nBrain_Data() class.  This class represents imaging data as a vectorized\nfeatures by observations matrix.  Each image is an observation and each voxel\nis a feature.  The concept behind the class is to have a similar feel to a pandas\ndataframe, which means that it should feel intuitive to manipulate the data.\n"
      ]
    },
    {
      "cell_type": "markdown",
      "metadata": {},
      "source": [
        "## Download pain dataset from neurovault\n\nHere we fetch the pain dataset used in `Chang et al., 2015 <http://journals.plos.org/plosbiology/article?id=10.1371/journal.pbio.1002180>`_\nfrom `neurovault <http://neurovault.org/collections/504/>`_. In this dataset\nthere are 28 subjects with 3 separate beta images reflecting varying intensities\nof thermal pain (i.e., high, medium, low).  The data will be downloaded to ~/nilearn_data,\nand automatically loaded as a Brain_Data() instance.  The image metadata will be stored in data.X.\n\n"
      ]
    },
    {
      "cell_type": "code",
      "execution_count": null,
      "metadata": {
        "collapsed": false
      },
      "outputs": [],
      "source": [
        "from nltools.datasets import fetch_pain\n\ndata = fetch_pain()"
      ]
    },
    {
      "cell_type": "markdown",
      "metadata": {},
      "source": [
        "## Load files\n\nNifti images can be easily loaded simply by passing a string to a nifti file.\nMany images can be loaded together by passing a list of nifti files.\nFor example, on linux or OSX systmes, the downloads from fetch_pain() will be\nstored in ~/nilearn_data.  We will load subject 1's data.\n\n"
      ]
    },
    {
      "cell_type": "code",
      "execution_count": null,
      "metadata": {
        "collapsed": false
      },
      "outputs": [],
      "source": [
        "# NOTES: Need to figure out how to get path to data working on rtd server\n# from nltools.data import Brain_Data\n# import glob\n#\n# sub1 = Brain_Data(glob.glob('~/nilearn_data/chang2015_pain/Pain_Subject_1*.nii.gz'))"
      ]
    },
    {
      "cell_type": "markdown",
      "metadata": {},
      "source": [
        "## Basic Brain_Data() Operations\n\nHere are a few quick basic data operations.\nFind number of images in Brain_Data() instance\n\n"
      ]
    },
    {
      "cell_type": "code",
      "execution_count": null,
      "metadata": {
        "collapsed": false
      },
      "outputs": [],
      "source": [
        "print(len(data))"
      ]
    },
    {
      "cell_type": "markdown",
      "metadata": {},
      "source": [
        "Find the dimensions of the data.  images x voxels\n\n"
      ]
    },
    {
      "cell_type": "code",
      "execution_count": null,
      "metadata": {
        "collapsed": false
      },
      "outputs": [],
      "source": [
        "print(data.shape())"
      ]
    },
    {
      "cell_type": "markdown",
      "metadata": {},
      "source": [
        "We can use any type of indexing to slice the data such as integers, lists\nof integers, or boolean.\n\n"
      ]
    },
    {
      "cell_type": "code",
      "execution_count": null,
      "metadata": {
        "collapsed": false
      },
      "outputs": [],
      "source": [
        "print(data[[1,6,2]])"
      ]
    },
    {
      "cell_type": "markdown",
      "metadata": {},
      "source": [
        "Calculate the mean for every voxel over images\n\n"
      ]
    },
    {
      "cell_type": "code",
      "execution_count": null,
      "metadata": {
        "collapsed": false
      },
      "outputs": [],
      "source": [
        "data.mean()"
      ]
    },
    {
      "cell_type": "markdown",
      "metadata": {},
      "source": [
        "Calculate the standard deviation for every voxel over images\n\n"
      ]
    },
    {
      "cell_type": "code",
      "execution_count": null,
      "metadata": {
        "collapsed": false
      },
      "outputs": [],
      "source": [
        "data.std()"
      ]
    },
    {
      "cell_type": "markdown",
      "metadata": {},
      "source": [
        "Methods can be chained.  Here we get the shape of the mean.\n\n"
      ]
    },
    {
      "cell_type": "code",
      "execution_count": null,
      "metadata": {
        "collapsed": false
      },
      "outputs": [],
      "source": [
        "print(data.mean().shape())"
      ]
    },
    {
      "cell_type": "markdown",
      "metadata": {},
      "source": [
        "Brain_Data instances can be added and subtracted\n\n"
      ]
    },
    {
      "cell_type": "code",
      "execution_count": null,
      "metadata": {
        "collapsed": false
      },
      "outputs": [],
      "source": [
        "new = data[1]+data[2]"
      ]
    },
    {
      "cell_type": "markdown",
      "metadata": {},
      "source": [
        "Brain_Data instances can be manipulated with basic arithmetic operations\nHere we add 10 to every voxel and scale by 2\n\n"
      ]
    },
    {
      "cell_type": "code",
      "execution_count": null,
      "metadata": {
        "collapsed": false
      },
      "outputs": [],
      "source": [
        "data2 = (data+10)*2"
      ]
    },
    {
      "cell_type": "markdown",
      "metadata": {},
      "source": [
        "Brain_Data instances can be copied\n\n"
      ]
    },
    {
      "cell_type": "code",
      "execution_count": null,
      "metadata": {
        "collapsed": false
      },
      "outputs": [],
      "source": [
        "new = data.copy()"
      ]
    },
    {
      "cell_type": "markdown",
      "metadata": {},
      "source": [
        "Brain_Data instances can be easily converted to nibabel instances, which\nstore the data in a 3D/4D matrix.  This is useful for interfacing with other\npython toolboxes such as `nilearn <http://nilearn.github.io/>`_\n\n"
      ]
    },
    {
      "cell_type": "code",
      "execution_count": null,
      "metadata": {
        "collapsed": false
      },
      "outputs": [],
      "source": [
        "data.to_nifti()"
      ]
    },
    {
      "cell_type": "markdown",
      "metadata": {},
      "source": [
        "Brain_Data instances can be concatenated using the append method\n\n"
      ]
    },
    {
      "cell_type": "code",
      "execution_count": null,
      "metadata": {
        "collapsed": false
      },
      "outputs": [],
      "source": [
        "new = new.append(data[4])"
      ]
    },
    {
      "cell_type": "markdown",
      "metadata": {},
      "source": [
        "Any Brain_Data object can be written out to a nifti file\n\n"
      ]
    },
    {
      "cell_type": "code",
      "execution_count": null,
      "metadata": {
        "collapsed": false
      },
      "outputs": [],
      "source": [
        "data.write('Tmp_Data.nii.gz')"
      ]
    },
    {
      "cell_type": "markdown",
      "metadata": {},
      "source": [
        "Images within a Brain_Data() instance are iterable.  Here we use a list\ncomprehension to calculate the overall mean across all voxels within an\nimage.\n\n"
      ]
    },
    {
      "cell_type": "code",
      "execution_count": null,
      "metadata": {
        "collapsed": false
      },
      "outputs": [],
      "source": [
        "[x.mean() for x in data]"
      ]
    },
    {
      "cell_type": "markdown",
      "metadata": {},
      "source": [
        "## Basic Brain_Data() Plotting\n\nThere are multiple ways to plot data.  First, Brain_Data() instances can be\nconverted to a nibabel instance and plotted using any plot method such as\nnilearn.\n\n"
      ]
    },
    {
      "cell_type": "code",
      "execution_count": null,
      "metadata": {
        "collapsed": false
      },
      "outputs": [],
      "source": [
        "from nilearn.plotting import plot_glass_brain\n\nplot_glass_brain(data.mean().to_nifti())"
      ]
    },
    {
      "cell_type": "markdown",
      "metadata": {},
      "source": [
        "There is also a fast montage plotting method.  Here we plot the average image\nit will render a separate plot for each image.  There is a 'limit' flag\nwhich allows you to specify the maximum number of images to display.\n\n"
      ]
    },
    {
      "cell_type": "code",
      "execution_count": null,
      "metadata": {
        "collapsed": false
      },
      "outputs": [],
      "source": [
        "data.mean().plot()"
      ]
    }
  ],
  "metadata": {
    "kernelspec": {
      "display_name": "Python 3",
      "language": "python",
      "name": "python3"
    },
    "language_info": {
      "codemirror_mode": {
        "name": "ipython",
        "version": 3
      },
      "file_extension": ".py",
      "mimetype": "text/x-python",
      "name": "python",
      "nbconvert_exporter": "python",
      "pygments_lexer": "ipython3",
      "version": "3.8.9"
    }
  },
  "nbformat": 4,
  "nbformat_minor": 0
}