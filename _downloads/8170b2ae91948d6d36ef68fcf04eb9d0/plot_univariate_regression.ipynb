{
  "cells": [
    {
      "cell_type": "code",
      "execution_count": null,
      "metadata": {
        "collapsed": false
      },
      "outputs": [],
      "source": [
        "%matplotlib inline"
      ]
    },
    {
      "cell_type": "markdown",
      "metadata": {},
      "source": [
        "\n# Univariate Regression\n\nThis example simulates data according to a very simple sketch of brain\nimaging data and applies a standard two-level univariate GLM to identify\nsignificant voxels.\n"
      ]
    },
    {
      "cell_type": "markdown",
      "metadata": {},
      "source": [
        "## Download pain dataset from neurovault\n\nHere we fetch the pain dataset used in Chang et al., 2015.  In this dataset\nthere are 28 subjects with 3 separate beta images reflecting varying intensities\nof thermal pain (i.e., high, medium, low).  The data will be downloaded to ~/nilearn_data,\nand automatically loaded as a Brain_Data() instance.  The metadata will be stored in data.X.\n\n"
      ]
    },
    {
      "cell_type": "code",
      "execution_count": null,
      "metadata": {
        "collapsed": false
      },
      "outputs": [],
      "source": [
        "from nltools.datasets import fetch_pain\n\ndata = fetch_pain()\nmetadata = data.X.copy()\nsubject_id = metadata['SubjectID']"
      ]
    },
    {
      "cell_type": "markdown",
      "metadata": {},
      "source": [
        "## Run Univariate Regression\n\nWe can loop over subjects and predict the intensity of each voxel from a \nsimple model of pain intensity and an intercept.  This is just for illustration\npurposes as there are only 3 observations per subject.  We initialize an empty\nBrain_Data() instance and loop over all subjects running a univariate regression \nseparately for each participant.  We aggregate the beta estimates for pain intensity\nacross subjects.\n\n"
      ]
    },
    {
      "cell_type": "code",
      "execution_count": null,
      "metadata": {
        "collapsed": false
      },
      "outputs": [],
      "source": [
        "from nltools.data import Brain_Data\nimport numpy as np\nimport pandas as pd\n\nall_sub = Brain_Data()\nfor s in subject_id.unique():\n    sdat = data[np.where(metadata['SubjectID']==s)[0]]\n    sdat.X = pd.DataFrame(data={'Intercept':np.ones(sdat.shape()[0]),'Pain':sdat.X['PainLevel']})\n    stats = sdat.regress()\n    all_sub = all_sub.append(stats['beta'][1])"
      ]
    },
    {
      "cell_type": "markdown",
      "metadata": {},
      "source": [
        "We can now run a one-sample t-test at every voxel to test whether it is \nsignificantly different from zero across participants.  We will threshold\nthe results using FDR correction, q < 0.001.\n\n"
      ]
    },
    {
      "cell_type": "code",
      "execution_count": null,
      "metadata": {
        "collapsed": false
      },
      "outputs": [],
      "source": [
        "t_stats = all_sub.ttest(threshold_dict={'fdr':.001})\nt_stats['thr_t'].plot()"
      ]
    },
    {
      "cell_type": "markdown",
      "metadata": {},
      "source": [
        "## Run Linear Contrast\n\nObviously, the univariate regression isn't a great idea when there are only\nthree observations per subject.  As we predict a monotonic increase in pain\nacross pain intensities, we can also calculate a linear contrast c=(-1,0,1).\nThis is simple using matrix multiplication on the centered pain intensity values.\n\n"
      ]
    },
    {
      "cell_type": "code",
      "execution_count": null,
      "metadata": {
        "collapsed": false
      },
      "outputs": [],
      "source": [
        "all_sub = []\nfor sub in subject_id.unique():\n    sdat = data[metadata['SubjectID']==sub]\n    sdat.X = pd.DataFrame(data={'Pain':sdat.X['PainLevel']})\n    all_sub.append(sdat * np.array(sdat.X['Pain'] - 2))\nall_sub = Brain_Data(all_sub)"
      ]
    },
    {
      "cell_type": "markdown",
      "metadata": {},
      "source": [
        "We can again run a one-sample t-test at every voxel using an FDR threshold\nof q < 0.001.\n\n"
      ]
    },
    {
      "cell_type": "code",
      "execution_count": null,
      "metadata": {
        "collapsed": false
      },
      "outputs": [],
      "source": [
        "t_stats = all_sub.ttest(threshold_dict={'fdr':.001})\nt_stats['thr_t'].plot()"
      ]
    }
  ],
  "metadata": {
    "kernelspec": {
      "display_name": "Python 3",
      "language": "python",
      "name": "python3"
    },
    "language_info": {
      "codemirror_mode": {
        "name": "ipython",
        "version": 3
      },
      "file_extension": ".py",
      "mimetype": "text/x-python",
      "name": "python",
      "nbconvert_exporter": "python",
      "pygments_lexer": "ipython3",
      "version": "3.8.9"
    }
  },
  "nbformat": 4,
  "nbformat_minor": 0
}