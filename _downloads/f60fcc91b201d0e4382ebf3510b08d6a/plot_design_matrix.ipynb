{
  "cells": [
    {
      "cell_type": "code",
      "execution_count": null,
      "metadata": {
        "collapsed": false
      },
      "outputs": [],
      "source": [
        "%matplotlib inline"
      ]
    },
    {
      "cell_type": "markdown",
      "metadata": {},
      "source": [
        "\n# Design Matrix\n\nThis tutorial illustrates how to use the Design_Matrix class to flexibly create\ndesign matrices that can then be used with the Brain_Data class to perform\nunivariate regression.\n\nDesign Matrices can be thought of as \"enhanced\" pandas dataframes; they can do\neverything a pandas dataframe is capable of, with some added features. Design\nMatrices follow a data organization format common in many machine learning\napplications such as the sci-kit learn API: 2d tables organized as observations\nby features. In the context of neuro-imaging this often translates to TRs by\nconditions of interest + nuisance covariates (1st level analysis), or\nparticipants by conditions/groups (2nd level analysis).\n"
      ]
    },
    {
      "cell_type": "markdown",
      "metadata": {},
      "source": [
        "## Design Matrix Basics\n\nLets just create a basic toy design matrix by hand corresponding to a single participant's data from an experiment with 12 TRs, collected at a temporal resolution of 1.5s. For this example we'll have 4 unique \"stimulus conditions\" that each occur for 2 TRs (3s) with 1 TR (1.5s) of rest between events.\n\n"
      ]
    },
    {
      "cell_type": "code",
      "execution_count": null,
      "metadata": {
        "collapsed": false
      },
      "outputs": [],
      "source": [
        "from nltools.data import Design_Matrix\nimport numpy as np\n\nTR = 1.5 # Design Matrices take a sampling_freq argument specified in hertz which can be converted as 1./TR\n\ndm = Design_Matrix(np.array([\n                            [0,0,0,0],\n                            [0,0,0,0],\n                            [1,0,0,0],\n                            [1,0,0,0],\n                            [0,0,0,0],\n                            [0,1,0,0],\n                            [0,1,0,0],\n                            [0,0,0,0],\n                            [0,0,1,0],\n                            [0,0,1,0],\n                            [0,0,0,0],\n                            [0,0,0,1],\n                            [0,0,0,1],\n                            [0,0,0,0],\n                            [0,0,0,0],\n                            [0,0,0,0],\n                            [0,0,0,0],\n                            [0,0,0,0],\n                            [0,0,0,0],\n                            [0,0,0,0],\n                            [0,0,0,0],\n                            [0,0,0,0]\n                            ]),\n                            sampling_freq = 1./TR,\n                            columns=['face_A','face_B','house_A','house_B']\n                            )"
      ]
    },
    {
      "cell_type": "markdown",
      "metadata": {},
      "source": [
        "Notice how this look exactly like a pandas dataframe. That's because design matrices are *subclasses* of dataframes with some extra attributes and methods.\n\n"
      ]
    },
    {
      "cell_type": "code",
      "execution_count": null,
      "metadata": {
        "collapsed": false
      },
      "outputs": [],
      "source": [
        "print(dm)"
      ]
    },
    {
      "cell_type": "markdown",
      "metadata": {},
      "source": [
        "Let's take a look at some of that meta-data. We can see that no columns have been convolved as of yet and this design matrix has no polynomial terms (e.g. such as an intercept or linear trend).\n\n"
      ]
    },
    {
      "cell_type": "code",
      "execution_count": null,
      "metadata": {
        "collapsed": false
      },
      "outputs": [],
      "source": [
        "print(dm.details())"
      ]
    },
    {
      "cell_type": "markdown",
      "metadata": {},
      "source": [
        "We can also easily visualize the design matrix using an SPM/AFNI/FSL style heatmap\n\n"
      ]
    },
    {
      "cell_type": "code",
      "execution_count": null,
      "metadata": {
        "collapsed": false
      },
      "outputs": [],
      "source": [
        "dm.heatmap()"
      ]
    },
    {
      "cell_type": "markdown",
      "metadata": {},
      "source": [
        "## Adding nuisiance covariates\n\n### Legendre Polynomials\n\nA common operation is adding an intercept and polynomial trend terms (e.g. linear and quadtratic) as nuisance regressors. This is easy to do. Consistent with other software packages, these are orthogonal Legendre poylnomials on the scale -1 to 1.\n\n"
      ]
    },
    {
      "cell_type": "code",
      "execution_count": null,
      "metadata": {
        "collapsed": false
      },
      "outputs": [],
      "source": [
        "# with include_lower = True (default), 2 here means: 0-intercept, 1-linear-trend, 2-quadtratic-trend\ndm_with_nuissance = dm.add_poly(2,include_lower=True)\ndm_with_nuissance.heatmap()"
      ]
    },
    {
      "cell_type": "markdown",
      "metadata": {},
      "source": [
        "We can see that 3 new columns were added to the design matrix. We can also inspect the change to the meta-data. Notice that the Design Matrix is aware of the existence of three polynomial terms now.\n\n"
      ]
    },
    {
      "cell_type": "code",
      "execution_count": null,
      "metadata": {
        "collapsed": false
      },
      "outputs": [],
      "source": [
        "print(dm_with_nuissance.details())"
      ]
    },
    {
      "cell_type": "markdown",
      "metadata": {},
      "source": [
        "### Discrete Cosine Basis Functions\n\nPolynomial variables are not the only type of nuisance covariates that can be generated for you. Design Matrix also supports the creation of discrete-cosine basis functions ala SPM. This will create a series of filters added as new columns based on a specified duration, defaulting to 180s. Let's create DCT filters for 20s durations in our toy data.\n\n"
      ]
    },
    {
      "cell_type": "code",
      "execution_count": null,
      "metadata": {
        "collapsed": false
      },
      "outputs": [],
      "source": [
        "# Short filter duration for our simple example\ndm_with_cosine = dm.add_dct_basis(duration=20)\ndm_with_cosine.heatmap()"
      ]
    },
    {
      "cell_type": "markdown",
      "metadata": {},
      "source": [
        "## Data operations\n\n### Performing convolution\n\nDesign Matrix makes it easy to perform convolution and will auto-ignore all columns that are consider polynomials. The default convolution kernel is the Glover (1999) HRF parameterized by the glover_hrf implementation in nipy (see nltools.externals.hrf for details). However, any arbitrary kernel can be passed as a 1d numpy array, or multiple kernels can be passed as a 2d numpy array for highly flexible convolution across many types of data (e.g. SCR).\n\n"
      ]
    },
    {
      "cell_type": "code",
      "execution_count": null,
      "metadata": {
        "collapsed": false
      },
      "outputs": [],
      "source": [
        "dm_with_nuissance_c = dm_with_nuissance.convolve()\nprint(dm_with_nuissance_c.details())\ndm_with_nuissance_c.heatmap()"
      ]
    },
    {
      "cell_type": "markdown",
      "metadata": {},
      "source": [
        "Design Matrix can do many different data operations in addition to convolution such as upsampling and downsampling to different frequencies, zscoring, etc. Check out the API documentation for how to use these methods.\n\n"
      ]
    },
    {
      "cell_type": "markdown",
      "metadata": {},
      "source": [
        "## File Reading\n\n### Creating a Design Matrix from an onsets file\n\nNltools provides basic file-reading support for 2 or 3 column formatted onset files. Users can look at the onsets_to_dm function as a template to build more complex file readers if desired or to see additional features. Nltools includes an example onsets file where each event lasted exactly 1 TR and TR = 2s. Lets use that to create a design matrix with an intercept and linear trend\n\n"
      ]
    },
    {
      "cell_type": "code",
      "execution_count": null,
      "metadata": {
        "collapsed": false
      },
      "outputs": [],
      "source": [
        "from nltools.utils import get_resource_path\nfrom nltools.file_reader import onsets_to_dm\nfrom nltools.data import Design_Matrix\nimport os\n\nTR = 2.0\nsampling_freq = 1./TR\nonsetsFile = os.path.join(get_resource_path(),'onsets_example.txt')\ndm = onsets_to_dm(onsetsFile, sampling_freq=sampling_freq, run_length=160, sort=True,add_poly=1)\ndm.heatmap()"
      ]
    },
    {
      "cell_type": "markdown",
      "metadata": {},
      "source": [
        "### Creating a Design Matrix from a generic csv file\n\nAlternatively you can read a generic csv file and transform it into a Design Matrix using pandas file reading capability. Here we'll read in an example covariates file that contains the output of motion realignment estimated during a fMRI preprocessing pipeline.\n\n"
      ]
    },
    {
      "cell_type": "code",
      "execution_count": null,
      "metadata": {
        "collapsed": false
      },
      "outputs": [],
      "source": [
        "import pandas as pd\n\ncovariatesFile = os.path.join(get_resource_path(),'covariates_example.csv')\ncov = pd.read_csv(covariatesFile)\ncov = Design_Matrix(cov, sampling_freq =sampling_freq)\ncov.heatmap(vmin=-1,vmax=1) # alter plot to scale of covs; heatmap takes Seaborn heatmap arguments"
      ]
    },
    {
      "cell_type": "markdown",
      "metadata": {},
      "source": [
        "## Working with multiple Design Matrices\n\n### Vertically \"stacking\" Design Matrices\nA common task is creating a separate design matrix for multiple runs of an experiment, (or multiple subjects) and vertically appending them to each other so that regression can be performed across all runs of an experiment. However, in order to account for run-differences its important (and common practice) to include separate run-wise polynomials (e.g. intercepts). Design Matrix's append method is intelligent and flexible enough to keep columns separated during appending automatically.\n\n"
      ]
    },
    {
      "cell_type": "code",
      "execution_count": null,
      "metadata": {
        "collapsed": false
      },
      "outputs": [],
      "source": [
        "# Lets use the design matrix with polynomials from above\n# Stack \"run 1\" on top of \"run 2\"\nruns_1_and_2 = dm_with_nuissance.append(dm_with_nuissance,axis=0)\nruns_1_and_2.heatmap()"
      ]
    },
    {
      "cell_type": "markdown",
      "metadata": {},
      "source": [
        "### Separating columns during append operations\nNotice that all polynomials have been kept separated for you automatically and have been renamed to reflect the fact that they come from different runs. But Design Matrix is even more flexible. Let's say you want to estimate separate run-wise coefficients for all house stimuli too. Simply pass that into the `unique_cols` parameter of append.\n\n"
      ]
    },
    {
      "cell_type": "code",
      "execution_count": null,
      "metadata": {
        "collapsed": false
      },
      "outputs": [],
      "source": [
        "runs_1_and_2 = dm_with_nuissance.append(dm_with_nuissance,unique_cols=['house*'],axis=0)\nruns_1_and_2.heatmap()"
      ]
    },
    {
      "cell_type": "markdown",
      "metadata": {},
      "source": [
        "Now notice how all stimuli that begin with 'house' have been made into separate columns for each run. In general `unique_cols` can take a list of columns to keep separated or simple wild cards that either begin with a term e.g. `\"house*\"` or end with one `\"*house\"`.\n\n"
      ]
    },
    {
      "cell_type": "markdown",
      "metadata": {},
      "source": [
        "## Putting it all together\n\n### A realistic workflow\nLet's combine all the examples above to build a work flow for a realistic first-level analysis fMRI analysis. This will include loading onsets from multiple experimental runs, and concatenating them into a large multi-run design matrix where we estimate a single set of coefficients for our variables of interest, but make sure we account for run-wise differences nuisiance covarites (e.g. motion) and baseline, trends, etc. For simplicity we'll just reuse the same onsets and covariates file multiple times.\n\n"
      ]
    },
    {
      "cell_type": "code",
      "execution_count": null,
      "metadata": {
        "collapsed": false
      },
      "outputs": [],
      "source": [
        "num_runs = 4\nTR = 2.0\nsampling_freq = 1./TR\nall_runs = Design_Matrix(sampling_freq = sampling_freq)\nfor i in range(num_runs):\n\n    # 1) Load in onsets for this run\n    onsetsFile = os.path.join(get_resource_path(),'onsets_example.txt')\n    dm = onsets_to_dm(onsetsFile, sampling_freq=sampling_freq,run_length=160,sort=True)\n\n    # 2) Convolve them with the hrf\n    dm = dm.convolve()\n\n    # 2) Load in covariates for this run\n    covariatesFile = os.path.join(get_resource_path(),'covariates_example.csv')\n    cov = pd.read_csv(covariatesFile)\n    cov = Design_Matrix(cov, sampling_freq = sampling_freq)\n\n    # 3) In the covariates, fill any NaNs with 0, add intercept and linear trends and dct basis functions\n    cov = cov.fillna(0)\n\n    # Retain a list of nuisance covariates (e.g. motion and spikes) which we'll also want to also keep separate for each run\n    cov_columns = cov.columns\n    cov = cov.add_poly(1).add_dct_basis()\n\n    # 4) Join the onsets and covariates together\n    full = dm.append(cov,axis=1)\n\n    # 5) Append it to the master Design Matrix keeping things separated by run\n    all_runs = all_runs.append(full,axis=0,unique_cols=cov.columns)\n\nall_runs.heatmap(vmin=-1,vmax=1)"
      ]
    },
    {
      "cell_type": "markdown",
      "metadata": {},
      "source": [
        "We can see the left most columns of our multi-run design matrix contain our conditions of interest (stacked across all runs), the middle columns includes separate run-wise nuisiance covariates (motion, spikes) and the right most columns contain run specific polynomials (intercept, trends, etc).\n\n"
      ]
    },
    {
      "cell_type": "markdown",
      "metadata": {},
      "source": [
        "## Data Diagnostics\n\nLet's actually check if our design is estimable. Design Matrix provides a few tools for cleaning up highly correlated columns (resulting in failure if trying to perform regression), replacing data, and computing collinearity. By default the `clean` method will drop any columns correlated at r >= .95\n\n"
      ]
    },
    {
      "cell_type": "code",
      "execution_count": null,
      "metadata": {
        "collapsed": false
      },
      "outputs": [],
      "source": [
        "all_runs_cleaned = all_runs.clean(verbose=True)\nall_runs_cleaned.heatmap(vmin=-1,vmax=1)"
      ]
    },
    {
      "cell_type": "markdown",
      "metadata": {},
      "source": [
        "Whoops, looks like above some of our polynomials and dct basis functions are highly correlated, but the clean method detected that and dropped them for us. In practice you'll often include polynomials or dct basis functions rather than both, but this was just an illustrative example.\n\n"
      ]
    },
    {
      "cell_type": "markdown",
      "metadata": {},
      "source": [
        "## Estimating a first-level model\n\nYou can now set this multi-run Design Matrix as the `X` attribute of a Brain_Data object containing EPI data for these four runs and estimate a regression in just a few lines of code.\n\n"
      ]
    },
    {
      "cell_type": "code",
      "execution_count": null,
      "metadata": {
        "collapsed": false
      },
      "outputs": [],
      "source": [
        "# This code is commented because we don't actually have niftis loaded for the purposes of this tutorial\n# See the other tutorials for more details on working with nifti files and Brain_Data objects\n\n# Assuming you already loaded up Nifti images like this\n# list_of_niftis = ['run_1.nii.gz','run_2.nii.gz','run_3.nii.gz','run_4.nii.gz']\n# all_run_data = Brain_Data(list_of_niftis)\n\n# Set our Design Matrix to the X attribute of Brain_Data object\n# all_run_data.X = all_runs_cleaned\n\n# Run the regression\n# results = all_run_data.regress()\n\n# This will produce N beta, t, and p images\n# where N is the number of columns in the design matrix"
      ]
    }
  ],
  "metadata": {
    "kernelspec": {
      "display_name": "Python 3",
      "language": "python",
      "name": "python3"
    },
    "language_info": {
      "codemirror_mode": {
        "name": "ipython",
        "version": 3
      },
      "file_extension": ".py",
      "mimetype": "text/x-python",
      "name": "python",
      "nbconvert_exporter": "python",
      "pygments_lexer": "ipython3",
      "version": "3.8.9"
    }
  },
  "nbformat": 4,
  "nbformat_minor": 0
}