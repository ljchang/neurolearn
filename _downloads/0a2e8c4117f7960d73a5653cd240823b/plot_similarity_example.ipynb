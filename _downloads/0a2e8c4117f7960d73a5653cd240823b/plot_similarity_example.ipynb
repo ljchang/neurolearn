{
  "cells": [
    {
      "cell_type": "code",
      "execution_count": null,
      "metadata": {
        "collapsed": false
      },
      "outputs": [],
      "source": [
        "%matplotlib inline"
      ]
    },
    {
      "cell_type": "markdown",
      "metadata": {},
      "source": [
        "# Similarity and Distance\n\nThis tutorial illustrates how to calculate similarity and distance between images.\n"
      ]
    },
    {
      "cell_type": "markdown",
      "metadata": {},
      "source": [
        "## Load Data\n\nFirst, let's load the pain data for this example.\n\n"
      ]
    },
    {
      "cell_type": "code",
      "execution_count": null,
      "metadata": {
        "collapsed": false
      },
      "outputs": [],
      "source": [
        "from nltools.datasets import fetch_pain\n\ndata = fetch_pain()"
      ]
    },
    {
      "cell_type": "markdown",
      "metadata": {},
      "source": [
        "## Distance\n\nWe can calculate the pairwise spatial distance between all images in a Brain_Data()\ninstance using any method from sklearn or scipy.  This outputs an Adjacency() class\nobject.\n\n"
      ]
    },
    {
      "cell_type": "code",
      "execution_count": null,
      "metadata": {
        "collapsed": false
      },
      "outputs": [],
      "source": [
        "d = data.distance(metric='correlation')\nd.plot()"
      ]
    },
    {
      "cell_type": "markdown",
      "metadata": {},
      "source": [
        "## Similarity\n\nThe similarity of an image to other images can be computed using the similarity()\nmethod.  Here we calculate the mean image for high pain intensity across all participants\nand calculate the degree of spatial similarity between this image and all pain intensities\nfor all participants.  This is a useful method for calculating pattern responses.\n\n"
      ]
    },
    {
      "cell_type": "code",
      "execution_count": null,
      "metadata": {
        "collapsed": false
      },
      "outputs": [],
      "source": [
        "import numpy as np\nimport matplotlib.pylab as plt\n\nhigh = data[np.where(data.X['PainLevel']==3)[0]].mean()\nr = high.similarity(data, method='correlation')\n\nf,a = plt.subplots(ncols=2, figsize=(10,4))\na[0].hist(r)\na[0].set_ylabel('Spatial Similarity')\na[0].set_xlabel('Pain Intensity')\na[0].set_title('Histogram of similarity with mean high intensity image')\na[1].scatter(data.X['PainLevel'],r)\na[1].set_ylabel('Spatial Similarity')\na[1].set_xlabel('Pain Intensity')\na[1].set_title('Spatial Similarity by Pain Intensity')"
      ]
    }
  ],
  "metadata": {
    "kernelspec": {
      "display_name": "Python 3",
      "language": "python",
      "name": "python3"
    },
    "language_info": {
      "codemirror_mode": {
        "name": "ipython",
        "version": 3
      },
      "file_extension": ".py",
      "mimetype": "text/x-python",
      "name": "python",
      "nbconvert_exporter": "python",
      "pygments_lexer": "ipython3",
      "version": "3.8.9"
    }
  },
  "nbformat": 4,
  "nbformat_minor": 0
}