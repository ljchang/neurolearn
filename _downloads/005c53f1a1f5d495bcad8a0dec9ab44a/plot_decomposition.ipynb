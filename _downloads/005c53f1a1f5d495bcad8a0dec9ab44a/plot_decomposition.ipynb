{
  "cells": [
    {
      "cell_type": "code",
      "execution_count": null,
      "metadata": {
        "collapsed": false
      },
      "outputs": [],
      "source": [
        "%matplotlib inline"
      ]
    },
    {
      "cell_type": "markdown",
      "metadata": {},
      "source": [
        "\n# Decomposition\n\nHere we demonstrate how to perform a decomposition of an imaging dataset.\nAll you need to do is specify the algorithm. Currently, we have several\ndifferent algorithms implemented from\n`scikit-learn <http://scikit-learn.org/stable/>`_\n('PCA','ICA','Factor Analysis','Non-Negative Matrix Factorization').\n"
      ]
    },
    {
      "cell_type": "markdown",
      "metadata": {},
      "source": [
        "## Load Data\n\nFirst, let's load the pain data for this example.  We need to specify the\ntraining levels.  We will grab the pain intensity variable from the data.X\nfield.\n\n"
      ]
    },
    {
      "cell_type": "code",
      "execution_count": null,
      "metadata": {
        "collapsed": false
      },
      "outputs": [],
      "source": [
        "from nltools.datasets import fetch_pain\n\ndata = fetch_pain()"
      ]
    },
    {
      "cell_type": "markdown",
      "metadata": {},
      "source": [
        "## Center within subject\n\nNext we will center the data.  However, because we are combining three pain\nimage intensities, we will perform centering separately for each participant.\n\n"
      ]
    },
    {
      "cell_type": "code",
      "execution_count": null,
      "metadata": {
        "collapsed": false
      },
      "outputs": [],
      "source": [
        "data_center = data.empty()\nfor s in data.X['SubjectID'].unique():\n    sdat = data[data.X['SubjectID']==s]\n    data_center = data_center.append(sdat.standardize())"
      ]
    },
    {
      "cell_type": "markdown",
      "metadata": {},
      "source": [
        "## Decomposition with Factor Analysis\n\nWe can now decompose the data into a subset of factors. For this example,\nwe will use factor analysis, but we can easily switch out the algorithm with\neither 'pca', 'ica', or 'nnmf'. Decomposition can be performed over voxels\nor alternatively over images.  Here we perform decomposition over images,\nwhich means that voxels are the observations and images are the features. Set\naxis='voxels' to decompose voxels treating images as observations.\n\n"
      ]
    },
    {
      "cell_type": "code",
      "execution_count": null,
      "metadata": {
        "collapsed": false
      },
      "outputs": [],
      "source": [
        "n_components = 5\n\noutput = data_center.decompose(algorithm='fa', axis='images',\n                                n_components=n_components)"
      ]
    },
    {
      "cell_type": "markdown",
      "metadata": {},
      "source": [
        "Display the available data in the output dictionary. The output contains\na Brain_Data instance with the brain factors (e.g., output['components']),\nthe feature by component weighting matrix (output['weights']), and the\nscikit-learn decomposition object (output['decomposition_object'].\nThe Decomposition object contains the full set of information, including\nthe parameters, the components, and the explained variance.\n\n"
      ]
    },
    {
      "cell_type": "code",
      "execution_count": null,
      "metadata": {
        "collapsed": false
      },
      "outputs": [],
      "source": [
        "print(output.keys())"
      ]
    },
    {
      "cell_type": "markdown",
      "metadata": {},
      "source": [
        "Next, we can plot the results.  Here we plot a heatmap of how each\nbrain image loads on each component.  We also plot the degree to which\neach voxel loads on each component.\n\n"
      ]
    },
    {
      "cell_type": "code",
      "execution_count": null,
      "metadata": {
        "collapsed": false
      },
      "outputs": [],
      "source": [
        "import seaborn as sns\nimport matplotlib.pylab as plt\n\nwith sns.plotting_context(context='paper', font_scale=2):\n    sns.heatmap(output['weights'])\n    plt.ylabel('Images')\n    plt.xlabel('Components')\n\noutput['components'].plot(limit=n_components)"
      ]
    },
    {
      "cell_type": "markdown",
      "metadata": {},
      "source": [
        "Finally, we can examine if any of the components track the intensity of\npain.  We plot the average loading of each component onto each pain\nintensity level. Interestingly, the first component with positive weights\non the bilateral insula, s2, and  ACC monotonically tracks the pain\nintensity level.\n\n"
      ]
    },
    {
      "cell_type": "code",
      "execution_count": null,
      "metadata": {
        "collapsed": false
      },
      "outputs": [],
      "source": [
        "import pandas as pd\n\nwt =  pd.DataFrame(output['weights'])\nwt['PainIntensity'] = data_center.X['PainLevel'].replace({1:'Low',\n\t\t\t\t\t\t\t\t\t\t\t\t\t\t  2:'Medium',\n\t\t\t\t\t\t\t\t\t\t\t\t\t\t  3:'High'}\n\t\t\t\t\t\t\t\t\t\t\t\t\t\t ).reset_index(drop=True)\n\nwt_long = pd.melt(wt,\n\t\t\t\t  value_vars=range(n_components),\n\t\t\t\t  value_name='Weight',\n\t\t\t\t  var_name='Component',\n\t\t\t\t  id_vars='PainIntensity')\n\nwith sns.plotting_context(context='paper', font_scale=2):\n    sns.factorplot(data=wt_long,\n                    y='Weight',\n                    x='PainIntensity',\n                    hue='Component',\n                    order=['Low','Medium','High'],\n                    aspect=1.5)"
      ]
    }
  ],
  "metadata": {
    "kernelspec": {
      "display_name": "Python 3",
      "language": "python",
      "name": "python3"
    },
    "language_info": {
      "codemirror_mode": {
        "name": "ipython",
        "version": 3
      },
      "file_extension": ".py",
      "mimetype": "text/x-python",
      "name": "python",
      "nbconvert_exporter": "python",
      "pygments_lexer": "ipython3",
      "version": "3.8.9"
    }
  },
  "nbformat": 4,
  "nbformat_minor": 0
}