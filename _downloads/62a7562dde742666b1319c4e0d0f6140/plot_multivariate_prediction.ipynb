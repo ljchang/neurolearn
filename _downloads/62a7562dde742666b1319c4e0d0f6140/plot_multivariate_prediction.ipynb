{
  "cells": [
    {
      "cell_type": "code",
      "execution_count": null,
      "metadata": {
        "collapsed": false
      },
      "outputs": [],
      "source": [
        "%matplotlib inline"
      ]
    },
    {
      "cell_type": "markdown",
      "metadata": {},
      "source": [
        "\n# Multivariate Prediction\n\nRunning MVPA style analyses using multivariate regression is even easier and faster\nthan univariate methods. All you need to do is specify the algorithm and\ncross-validation parameters. Currently, we have several different linear algorithms\nimplemented from `scikit-learn <http://scikit-learn.org/stable/>`_.\n"
      ]
    },
    {
      "cell_type": "markdown",
      "metadata": {},
      "source": [
        "## Load Data\n\nFirst, let's load the pain data for this example.  We need to specify the\ntraining levels.  We will grab the pain intensity variable from the data.X\nfield.\n\n"
      ]
    },
    {
      "cell_type": "code",
      "execution_count": null,
      "metadata": {
        "collapsed": false
      },
      "outputs": [],
      "source": [
        "from nltools.datasets import fetch_pain\n\ndata = fetch_pain()\ndata.Y = data.X['PainLevel']"
      ]
    },
    {
      "cell_type": "markdown",
      "metadata": {},
      "source": [
        "## Prediction with Cross-Validation\n\nWe can now predict the output variable is a dictionary of the most\nuseful output from the prediction analyses. The predict function runs\nthe prediction multiple times. One of the iterations uses all of the\ndata to calculate the 'weight_map'. The other iterations are to estimate\nthe cross-validated predictive accuracy.\n\n"
      ]
    },
    {
      "cell_type": "code",
      "execution_count": null,
      "metadata": {
        "collapsed": false
      },
      "outputs": [],
      "source": [
        "stats = data.predict(algorithm='ridge',\n                    cv_dict={'type': 'kfolds','n_folds': 5,'stratified':data.Y})"
      ]
    },
    {
      "cell_type": "markdown",
      "metadata": {},
      "source": [
        "Display the available data in the output dictionary\n\n"
      ]
    },
    {
      "cell_type": "code",
      "execution_count": null,
      "metadata": {
        "collapsed": false
      },
      "outputs": [],
      "source": [
        "stats.keys()"
      ]
    },
    {
      "cell_type": "markdown",
      "metadata": {},
      "source": [
        "Plot the multivariate weight map\n\n"
      ]
    },
    {
      "cell_type": "code",
      "execution_count": null,
      "metadata": {
        "collapsed": false
      },
      "outputs": [],
      "source": [
        "stats['weight_map'].plot()"
      ]
    },
    {
      "cell_type": "markdown",
      "metadata": {},
      "source": [
        "Return the cross-validated predicted data\n\n"
      ]
    },
    {
      "cell_type": "code",
      "execution_count": null,
      "metadata": {
        "collapsed": false
      },
      "outputs": [],
      "source": [
        "stats['yfit_xval']"
      ]
    },
    {
      "cell_type": "markdown",
      "metadata": {},
      "source": [
        "## Algorithms\n\nThere are several types of linear algorithms implemented including:\nSupport Vector Machines (svr), Principal Components Analysis (pcr), and\npenalized methods such as ridge and lasso.  These examples use 5-fold\ncross-validation holding out the same subject in each fold.\n\n"
      ]
    },
    {
      "cell_type": "code",
      "execution_count": null,
      "metadata": {
        "collapsed": false
      },
      "outputs": [],
      "source": [
        "subject_id = data.X['SubjectID']\nsvr_stats = data.predict(algorithm='svr',\n                        cv_dict={'type': 'kfolds','n_folds': 5,\n                        'subject_id':subject_id}, **{'kernel':\"linear\"})"
      ]
    },
    {
      "cell_type": "markdown",
      "metadata": {},
      "source": [
        "Lasso Regression\n\n"
      ]
    },
    {
      "cell_type": "code",
      "execution_count": null,
      "metadata": {
        "collapsed": false
      },
      "outputs": [],
      "source": [
        "lasso_stats = data.predict(algorithm='lasso',\n                        cv_dict={'type': 'kfolds','n_folds': 5,\n                        'subject_id':subject_id}, **{'alpha':.1})"
      ]
    },
    {
      "cell_type": "markdown",
      "metadata": {},
      "source": [
        "Principal Components Regression\n\n"
      ]
    },
    {
      "cell_type": "code",
      "execution_count": null,
      "metadata": {
        "collapsed": false
      },
      "outputs": [],
      "source": [
        "pcr_stats = data.predict(algorithm='pcr',\n                        cv_dict={'type': 'kfolds','n_folds': 5,\n                        'subject_id':subject_id})"
      ]
    },
    {
      "cell_type": "markdown",
      "metadata": {},
      "source": [
        "Principal Components Regression with Lasso\n\n"
      ]
    },
    {
      "cell_type": "code",
      "execution_count": null,
      "metadata": {
        "collapsed": false
      },
      "outputs": [],
      "source": [
        "pcr_stats = data.predict(algorithm='lassopcr',\n                        cv_dict={'type': 'kfolds','n_folds': 5,\n                        'subject_id':subject_id})"
      ]
    },
    {
      "cell_type": "markdown",
      "metadata": {},
      "source": [
        "## Cross-Validation Schemes\n\nThere are several different ways to perform cross-validation.  The standard\napproach is to use k-folds, where the data is equally divided into k subsets\nand each fold serves as both training and test.\nOften we want to hold out the same subjects in each fold.\nThis can be done by passing in a vector of unique subject IDs that\ncorrespond to the images in the data frame.\n\n"
      ]
    },
    {
      "cell_type": "code",
      "execution_count": null,
      "metadata": {
        "collapsed": false
      },
      "outputs": [],
      "source": [
        "subject_id = data.X['SubjectID']\nridge_stats = data.predict(algorithm='ridge',\n                        cv_dict={'type': 'kfolds','n_folds': 5,'subject_id':subject_id},\n                        plot=False, **{'alpha':.1})"
      ]
    },
    {
      "cell_type": "markdown",
      "metadata": {},
      "source": [
        "Sometimes we want to ensure that the training labels are balanced across\nfolds.  This can be done using the stratified k-folds method.\n\n"
      ]
    },
    {
      "cell_type": "code",
      "execution_count": null,
      "metadata": {
        "collapsed": false
      },
      "outputs": [],
      "source": [
        "ridge_stats = data.predict(algorithm='ridge',\n                        cv_dict={'type': 'kfolds','n_folds': 5, 'stratified':data.Y},\n                        plot=False, **{'alpha':.1})"
      ]
    },
    {
      "cell_type": "markdown",
      "metadata": {},
      "source": [
        "Leave One Subject Out Cross-Validaiton (LOSO) is when k=n subjects.\nThis can be performed by passing in a vector indicating subject id's of\neach image and using the loso flag.\n\n"
      ]
    },
    {
      "cell_type": "code",
      "execution_count": null,
      "metadata": {
        "collapsed": false
      },
      "outputs": [],
      "source": [
        "ridge_stats = data.predict(algorithm='ridge',\n                        cv_dict={'type': 'loso','subject_id': subject_id},\n                        plot=False, **{'alpha':.1})"
      ]
    },
    {
      "cell_type": "markdown",
      "metadata": {},
      "source": [
        "There are also methods to estimate the shrinkage parameter for the\npenalized methods using nested crossvalidation with the\nridgeCV and lassoCV algorithms.\n\n"
      ]
    },
    {
      "cell_type": "code",
      "execution_count": null,
      "metadata": {
        "collapsed": false
      },
      "outputs": [],
      "source": [
        "import numpy as np\n\nridgecv_stats = data.predict(algorithm='ridgeCV',\n                        cv_dict={'type': 'kfolds','n_folds': 5, 'stratified':data.Y},\n                        plot=False, **{'alphas':np.linspace(.1, 10, 5)})"
      ]
    }
  ],
  "metadata": {
    "kernelspec": {
      "display_name": "Python 3",
      "language": "python",
      "name": "python3"
    },
    "language_info": {
      "codemirror_mode": {
        "name": "ipython",
        "version": 3
      },
      "file_extension": ".py",
      "mimetype": "text/x-python",
      "name": "python",
      "nbconvert_exporter": "python",
      "pygments_lexer": "ipython3",
      "version": "3.8.9"
    }
  },
  "nbformat": 4,
  "nbformat_minor": 0
}