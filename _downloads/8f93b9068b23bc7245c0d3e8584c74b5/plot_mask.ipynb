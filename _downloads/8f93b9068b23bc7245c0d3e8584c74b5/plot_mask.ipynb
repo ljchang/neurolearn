{
  "cells": [
    {
      "cell_type": "code",
      "execution_count": null,
      "metadata": {
        "collapsed": false
      },
      "outputs": [],
      "source": [
        "%matplotlib inline"
      ]
    },
    {
      "cell_type": "markdown",
      "metadata": {},
      "source": [
        "# Masking Example\n\nThis tutorial illustrates methods to help with masking data.\n"
      ]
    },
    {
      "cell_type": "markdown",
      "metadata": {},
      "source": [
        "## Load Data\n\nFirst, let's load the pain data for this example.\n\n"
      ]
    },
    {
      "cell_type": "code",
      "execution_count": null,
      "metadata": {
        "collapsed": false
      },
      "outputs": [],
      "source": [
        "from nltools.datasets import fetch_pain\n\ndata = fetch_pain()"
      ]
    },
    {
      "cell_type": "markdown",
      "metadata": {},
      "source": [
        "## Apply_Mask\n\nSpherical masks can be created using the create_sphere function.\nIt requires specifying a center voxel and the radius of the sphere.\n\n"
      ]
    },
    {
      "cell_type": "code",
      "execution_count": null,
      "metadata": {
        "collapsed": false
      },
      "outputs": [],
      "source": [
        "from nltools.mask import create_sphere\n\nmask = create_sphere([0, 0, 0], radius=30)\nmasked_data = data.apply_mask(mask)\nmasked_data.mean().plot()"
      ]
    },
    {
      "cell_type": "markdown",
      "metadata": {},
      "source": [
        "## Extract Mean Within ROI\n\nWe can easily calculate the mean within an ROI for each image within a \nBrain_Data() instance using the extract_roi() method. \n\n"
      ]
    },
    {
      "cell_type": "code",
      "execution_count": null,
      "metadata": {
        "collapsed": false
      },
      "outputs": [],
      "source": [
        "import matplotlib.pyplot as plt\n\nmean = data.extract_roi(mask)\nplt.plot(mean)"
      ]
    },
    {
      "cell_type": "markdown",
      "metadata": {},
      "source": [
        "## Expand and Contract ROIs\n\nSome masks have many ROIs indicated by a unique ID.  It is possible to\nexpand these masks into separate ROIs and also collapse them into a single\nimage again.  Here we will demonstrate on a k=50 parcellation hosted on\nhttp://neurovault.org.\n\n"
      ]
    },
    {
      "cell_type": "code",
      "execution_count": null,
      "metadata": {
        "collapsed": false
      },
      "outputs": [],
      "source": [
        "from nltools.mask import expand_mask, collapse_mask\nfrom nltools.data import Brain_Data\n\nmask = Brain_Data('http://neurovault.org/media/images/2099/Neurosynth%20Parcellation_0.nii.gz')\nmask.plot()"
      ]
    },
    {
      "cell_type": "markdown",
      "metadata": {},
      "source": [
        "We can expand this mask into 50 separate regions\n\n"
      ]
    },
    {
      "cell_type": "code",
      "execution_count": null,
      "metadata": {
        "collapsed": false
      },
      "outputs": [],
      "source": [
        "mask_x = expand_mask(mask)\nmask_x[:3].plot()"
      ]
    },
    {
      "cell_type": "markdown",
      "metadata": {},
      "source": [
        "We can collapse these 50 separate regions as unique values in a single image \n\n"
      ]
    },
    {
      "cell_type": "code",
      "execution_count": null,
      "metadata": {
        "collapsed": false
      },
      "outputs": [],
      "source": [
        "mask_c = collapse_mask(mask_x)\nmask_c.plot()"
      ]
    },
    {
      "cell_type": "markdown",
      "metadata": {},
      "source": [
        "## Threshold and Regions\n\nImages can be thresholded using an arbitrary cutoff or a percentile using the \nthreshold method.  Here we calculate the mean of the high pain images and\nthreshold using the 95 percentile.\n\n"
      ]
    },
    {
      "cell_type": "code",
      "execution_count": null,
      "metadata": {
        "collapsed": false
      },
      "outputs": [],
      "source": [
        "high = data[data.X['PainLevel']==3]\nhigh.mean().threshold(lower='2.5%', upper='97.5%').plot()"
      ]
    },
    {
      "cell_type": "markdown",
      "metadata": {},
      "source": [
        "We might be interested in creating a binary mask from this threshold.\n\n"
      ]
    },
    {
      "cell_type": "code",
      "execution_count": null,
      "metadata": {
        "collapsed": false
      },
      "outputs": [],
      "source": [
        "mask_b = high.mean().threshold(lower='2.5%', upper='97.5%',binarize=True)\nmask_b.plot()"
      ]
    },
    {
      "cell_type": "markdown",
      "metadata": {},
      "source": [
        "We might also want to create separate images from each contiguous ROI.\n\n"
      ]
    },
    {
      "cell_type": "code",
      "execution_count": null,
      "metadata": {
        "collapsed": false
      },
      "outputs": [],
      "source": [
        "region = high.mean().threshold(lower='2.5%', upper='97.5%').regions()\nregion.plot()"
      ]
    },
    {
      "cell_type": "markdown",
      "metadata": {},
      "source": [
        "Finally, we can perform operations on ROIs from a mask and then convert them\nback into a Brain_Data instance. In this example, let's compute a linear contrast\nof increasing pain for each each participant. Then, let's compute functional \nconnectivity across participants within each ROI and calculate the degree \ncentrality of each ROI after arbitrarily thresholding the connectivity matrix.\nWe can then convert each ROIs degree back into a Brain_Data instance to help\nvisualize which regions are more central in this analysis.\n\n"
      ]
    },
    {
      "cell_type": "code",
      "execution_count": null,
      "metadata": {
        "collapsed": false
      },
      "outputs": [],
      "source": [
        "from sklearn.metrics import pairwise_distances\nfrom nltools.data import Adjacency\nfrom nltools.mask import roi_to_brain\nimport pandas as pd\nimport numpy as np\n\nsub_list = data.X['SubjectID'].unique()\n\n# perform matrix multiplication to compute linear contrast for each subject\nlin_contrast = []\nfor sub in sub_list:\n    lin_contrast.append(data[data.X['SubjectID'] == sub] * np.array([1, -1,  0])) \n\n# concatenate list of Brain_Data instances into a single instance\nlin_contrast = Brain_Data(lin_contrast) \n\n# Compute correlation distance between each ROI\ndist = Adjacency(pairwise_distances(lin_contrast.extract_roi(mask), metric='correlation'), matrix_type='distance')\n\n# Threshold functional connectivity and convert to Adjacency Matrix. Plot as heatmap\ndist.threshold(upper=.4, binarize=True).plot()\n\n# Convert Adjacency matrix to networkX instance\ng = dist.threshold(upper=.4, binarize=True).to_graph()\n\n# Compute degree centrality and convert back into Brain_Data instance.\ndegree_centrality = roi_to_brain(pd.Series(dict(g.degree())), mask_x)\n\ndegree_centrality.plot()"
      ]
    }
  ],
  "metadata": {
    "kernelspec": {
      "display_name": "Python 3",
      "language": "python",
      "name": "python3"
    },
    "language_info": {
      "codemirror_mode": {
        "name": "ipython",
        "version": 3
      },
      "file_extension": ".py",
      "mimetype": "text/x-python",
      "name": "python",
      "nbconvert_exporter": "python",
      "pygments_lexer": "ipython3",
      "version": "3.8.9"
    }
  },
  "nbformat": 4,
  "nbformat_minor": 0
}